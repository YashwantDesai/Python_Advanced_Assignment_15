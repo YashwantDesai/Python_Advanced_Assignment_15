{
 "cells": [
  {
   "cell_type": "markdown",
   "id": "0c27a818",
   "metadata": {},
   "source": [
    "# Yashwant Desai –  Python_Advanced_Assignment_15"
   ]
  },
  {
   "cell_type": "markdown",
   "id": "623c0f2a",
   "metadata": {},
   "source": [
    "# 1.\tWhat are the new features added in Python 3.8 version?"
   ]
  },
  {
   "cell_type": "markdown",
   "id": "8c43a9b8",
   "metadata": {},
   "source": [
    "Below are new features added in python 3.8 version\n",
    "\n",
    "o Introduces := operator for inline variable assignment.\n",
    "\n",
    "o Allows specifying function parameters as positional-only using /.\n",
    "\n",
    "o Adds = specifier for displaying both the expression and its value in f-strings.\n",
    "\n",
    "o Introduces SyntaxWarnings for potential issues in code.\n",
    "\n",
    "o Provides standardized type hints for function and variable annotations.\n",
    "\n",
    "o - math.prod() for calculating the product of iterable elements.<br> - functools.cached_property for creating cached properties.<br> - typing.Protocol for structural interfaces.\n",
    "\n",
    "o Various optimizations to enhance code execution speed and efficiency."
   ]
  },
  {
   "cell_type": "markdown",
   "id": "9a52eab7",
   "metadata": {},
   "source": [
    "# 2.\tWhat is monkey patching in Python?"
   ]
  },
  {
   "cell_type": "markdown",
   "id": "74982ba5",
   "metadata": {},
   "source": [
    "Monkey patching in Python means altering or extending existing code's behavior at runtime, typically by adding, modifying, or replacing functions or methods. It can be powerful but should be used sparingly to avoid potential issues and maintain code clarity.\n",
    "\n",
    "o Monkey patching allows us to change the behavior of a class or module without altering its source code.\n",
    "\n",
    "o Monkey patching use to fix bugs in third party libraries or modules. Monkey patching usefull to add new functionality to existing classes or modules.\n",
    "\n",
    "Below is an example of monkey patching"
   ]
  },
  {
   "cell_type": "code",
   "execution_count": 1,
   "id": "b760a7fa",
   "metadata": {},
   "outputs": [
    {
     "name": "stdout",
     "output_type": "stream",
     "text": [
      "Original behavior\n",
      "Patched behavior\n"
     ]
    }
   ],
   "source": [
    "class SomeClass:\n",
    "    def original_method(self):\n",
    "        return \"Original behavior\"\n",
    "def new_method(self):\n",
    "    return \"Patched behavior\"\n",
    "SomeClass.patched_method = new_method\n",
    "obj = SomeClass()\n",
    "print(obj.original_method())  \n",
    "print(obj.patched_method())  "
   ]
  },
  {
   "cell_type": "markdown",
   "id": "be0d7cc1",
   "metadata": {},
   "source": [
    "# 3.\tWhat is the difference between a shallow copy and deep copy?"
   ]
  },
  {
   "cell_type": "markdown",
   "id": "1518809b",
   "metadata": {},
   "source": [
    "Below are differences between a shallow copy and deep copy\n",
    "\n",
    "o Shallow copy creates a new top level object that is a copy of the original object.\n",
    "\n",
    "o Deep copy creates a completely independent duplicate of the original object.\n",
    "\n",
    "o Shallow copy copies reference to nested object so change to nasted objects are shared.\n",
    "\n",
    "o Deep copy creates new instances of nested objects isolating them from changes in the original.\n",
    "\n",
    "o Shallow copy use copy.copy() or slicing for lists dictionaries etc.\n",
    "\n",
    "o Deep copy copy.deepcopy() from the copy module for deep copying."
   ]
  },
  {
   "cell_type": "code",
   "execution_count": 2,
   "id": "cd72421c",
   "metadata": {},
   "outputs": [
    {
     "name": "stdout",
     "output_type": "stream",
     "text": [
      "[[0, 2, 3], [4, 5, 6]]\n",
      "[[1, 2, 3], [4, 5, 6]]\n"
     ]
    }
   ],
   "source": [
    "import copy\n",
    "\n",
    "original_list = [[1, 2, 3], [4, 5, 6]]\n",
    "deep_copied_list = copy.deepcopy(original_list)\n",
    "\n",
    "original_list[0][0] = 0\n",
    "print(original_list)    \n",
    "print(deep_copied_list) "
   ]
  },
  {
   "cell_type": "markdown",
   "id": "658b7190",
   "metadata": {},
   "source": [
    "# 4.\tWhat is the maximum possible length of an identifier?"
   ]
  },
  {
   "cell_type": "markdown",
   "id": "fd954dac",
   "metadata": {},
   "source": [
    "The maximum possible length of an identifier is not explicitly specified by the language specification. However in practice most python implementations limit the length of identifiers due to practical considerations.\n",
    "\n",
    "In CPython which is the reference implementation of python the maximum identifier length is 255 bytes. This limitation is defined by the Pycode_Addr2Location function which is used to create string representations of code object and includes the limit of 255 bytes for indentifiers.\n",
    "\n",
    "Having extremely long indentifiers can make our code less readable and maintainable. "
   ]
  },
  {
   "cell_type": "markdown",
   "id": "c50bb1dc",
   "metadata": {},
   "source": [
    "# 5.\tWhat is generator comprehension?"
   ]
  },
  {
   "cell_type": "markdown",
   "id": "730c2f1a",
   "metadata": {},
   "source": [
    "A generator comprehension in Python is like a compact way to create a \"recipe\" for generating a series of values. It doesn't make all the values at once; instead, it generates them one at a time when you need them. It's useful when you want to work with large sets of data efficiently, as it doesn't store everything in memory at once.\n",
    "\n",
    "A generator comprehension is a concise way to create a generator object which is a type of iterable. Its similar in syntax to a list comprehension but produces a generator instead of a list. Generator comprehensions are used for iterating over a sequence of values one at a time.\n",
    "\n",
    "Syntax:\n",
    "\n",
    "(expression for item in iterable if condition)\n"
   ]
  },
  {
   "cell_type": "code",
   "execution_count": 3,
   "id": "255946d1",
   "metadata": {},
   "outputs": [
    {
     "name": "stdout",
     "output_type": "stream",
     "text": [
      "4\n",
      "16\n",
      "36\n"
     ]
    }
   ],
   "source": [
    "numbers = [1, 2, 3, 4, 5, 6]\n",
    "even_squares = (x**2 for x in numbers if x % 2 == 0)\n",
    "for square in even_squares:\n",
    "    print(square)"
   ]
  },
  {
   "cell_type": "markdown",
   "id": "dda7d5b1",
   "metadata": {},
   "source": [
    "# Answered all 5 questions "
   ]
  },
  {
   "cell_type": "markdown",
   "id": "a04469f9",
   "metadata": {},
   "source": [
    "# Done Regards,Yashwant"
   ]
  }
 ],
 "metadata": {
  "kernelspec": {
   "display_name": "Python 3 (ipykernel)",
   "language": "python",
   "name": "python3"
  },
  "language_info": {
   "codemirror_mode": {
    "name": "ipython",
    "version": 3
   },
   "file_extension": ".py",
   "mimetype": "text/x-python",
   "name": "python",
   "nbconvert_exporter": "python",
   "pygments_lexer": "ipython3",
   "version": "3.9.13"
  }
 },
 "nbformat": 4,
 "nbformat_minor": 5
}
